{
 "cells": [
  {
   "cell_type": "code",
   "execution_count": 1,
   "id": "c4039191-bcff-4b01-93cb-f85f6f6e8995",
   "metadata": {
    "tags": []
   },
   "outputs": [],
   "source": [
    "\"\"\"solve4x4.ipynb\"\"\"\n",
    "# Cell 1\n",
    "\n",
    "from __future__ import annotations\n",
    "\n",
    "import typing\n",
    "\n",
    "import numpy as np\n",
    "from IPython.core.display import Math\n",
    "\n",
    "if typing.TYPE_CHECKING:\n",
    "    from numpy.typing import NDArray\n",
    "\n",
    "\n",
    "def display_array(\n",
    "    a: NDArray[np.complex_], places: int = 5, column: bool = False, prefix: str = \"\"\n",
    ") -> None:\n",
    "    def strip(val: float) -> str:\n",
    "        frmt: str = \":.\" + str(places) + \"f\"\n",
    "        d: str = str(\"{v\" + frmt + \"}\").format(v=val)\n",
    "        while d[-1] == \"0\":\n",
    "            d = d[:-1]\n",
    "        if d[-1] == \".\":\n",
    "            d = d[:-1]\n",
    "        if float(d) == 0:\n",
    "            d = \"0\"\n",
    "        return d\n",
    "\n",
    "    m: NDArray[np.complex_] = np.copy(a)\n",
    "    if len(m.shape) == 1:\n",
    "        m = m[np.newaxis, :]\n",
    "        if column:\n",
    "            m = m.T\n",
    "    prec: float = 1 / 10**places\n",
    "    s: str = r\"\\begin{bmatrix}\"\n",
    "    for row in range(m.shape[0]):\n",
    "        for col in range(m.shape[1]):\n",
    "            v: np.complex_ = m[row, col]\n",
    "            real_comp: float = float(np.real(v))\n",
    "            imag_comp: float = float(np.imag(v))\n",
    "            is_imag_neg: bool = imag_comp < 0\n",
    "            is_real_zero: bool = bool(np.isclose(real_comp, 0, atol=prec))\n",
    "            is_imag_zero: bool = bool(np.isclose(imag_comp, 0, atol=prec))\n",
    "            is_imag_one: bool = bool(np.isclose(abs(imag_comp), 1, atol=prec))\n",
    "            if is_real_zero:\n",
    "                if is_imag_zero:\n",
    "                    s += \"0\"\n",
    "            else:\n",
    "                s += strip(real_comp)\n",
    "            if not is_imag_zero:\n",
    "                if is_imag_one:\n",
    "                    if is_imag_neg:\n",
    "                        s += r\"-i\"\n",
    "                    else:\n",
    "                        if not is_real_zero:\n",
    "                            s += \"+\"\n",
    "                        s += r\"i\"\n",
    "                else:\n",
    "                    if not is_real_zero and not is_imag_neg:\n",
    "                        s += \" + \"\n",
    "                    s += strip(imag_comp) + \"i\"\n",
    "            if col < m.shape[1] - 1:\n",
    "                s += \" &\"\n",
    "        s += r\"\\\\\"\n",
    "    s += r\"\\end{bmatrix}\"\n",
    "    display(Math(prefix + s))"
   ]
  },
  {
   "cell_type": "code",
   "execution_count": 2,
   "id": "cc084105",
   "metadata": {},
   "outputs": [
    {
     "data": {
      "text/latex": [
       "$\\displaystyle {A}=\\begin{bmatrix}1 &2 &1 &-1\\\\3 &2 &4 &4\\\\4 &4 &3 &4\\\\2 &0 &1 &5\\\\\\end{bmatrix}$"
      ],
      "text/plain": [
       "<IPython.core.display.Math object>"
      ]
     },
     "metadata": {},
     "output_type": "display_data"
    },
    {
     "data": {
      "text/latex": [
       "$\\displaystyle \\mathbf{b}=\\begin{bmatrix}5 &16 &22 &15\\\\\\end{bmatrix}$"
      ],
      "text/plain": [
       "<IPython.core.display.Math object>"
      ]
     },
     "metadata": {},
     "output_type": "display_data"
    },
    {
     "data": {
      "text/latex": [
       "$\\displaystyle \\mathbf{x}=\\begin{bmatrix}16\\\\-6\\\\-2\\\\-3\\\\\\end{bmatrix}$"
      ],
      "text/plain": [
       "<IPython.core.display.Math object>"
      ]
     },
     "metadata": {},
     "output_type": "display_data"
    }
   ],
   "source": [
    "# Cell 2 \n",
    "# Task 14-04 \n",
    "# Caroline Cummings\n",
    "\n",
    "def solve_system () -> None:\n",
    "    \"\"\"Solves given system using built-in function\"\"\"\n",
    "\n",
    "    # From matrix_algebra.ipynb Cell 7 and Cell 9 - D. Biersach\n",
    "\n",
    "    coeffs: NDArray[np.complex_] = np.array([[1, 2, 1, -1], [3, 2, 4, 4], [4, 4, 3, 4], [2, 0, 1, 5]])\n",
    "    vals: NDArray[np.complex_] = np.array([5, 16, 22, 15])\n",
    "\n",
    "    display_array(coeffs, prefix=r\"{A}=\")\n",
    "    display_array(vals, prefix=r\"\\mathbf{b}=\")\n",
    "\n",
    "    # Use numpy's linear algebra solver\n",
    "    sol: NDArray[np.complex_] = np.linalg.solve(coeffs, vals)\n",
    "\n",
    "    display_array(sol, column=True, prefix=r\"\\mathbf{x}=\")\n",
    "\n",
    "solve_system()"
   ]
  }
 ],
 "metadata": {
  "kernelspec": {
   "display_name": "Python 3 (ipykernel)",
   "language": "python",
   "name": "python3"
  },
  "language_info": {
   "codemirror_mode": {
    "name": "ipython",
    "version": 3
   },
   "file_extension": ".py",
   "mimetype": "text/x-python",
   "name": "python",
   "nbconvert_exporter": "python",
   "pygments_lexer": "ipython3",
   "version": "3.9.6"
  }
 },
 "nbformat": 4,
 "nbformat_minor": 5
}
