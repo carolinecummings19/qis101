{
 "cells": [
  {
   "cell_type": "code",
   "execution_count": 2,
   "metadata": {},
   "outputs": [
    {
     "name": "stdout",
     "output_type": "stream",
     "text": [
      "My calculated factorial for i is (0.498016-0.15495j)\n"
     ]
    }
   ],
   "source": [
    "# Calculate i! using Euler's Gamma Function\n",
    "# 0.498015668 - 0.154949828 i\n",
    "\n",
    "from scipy.integrate import quad  # type: ignore\n",
    "import numpy as np\n",
    "\n",
    "def gamma_real (x: float) -> float:\n",
    "    \"\"\"To integrate and find the real part of the factorial\"\"\"\n",
    "    return np.exp(-x) * np.cos(np.log(x)) # type: ignore\n",
    "\n",
    "def gamma_imag (x: float) -> float:\n",
    "    \"\"\"To integrate and find the imaginary part of the factorial\"\"\"\n",
    "    return np.exp(-x) * np.sin(np.log(x)) # type: ignore\n",
    "    \n",
    "def main() -> None:\n",
    "    # Integrate over both functions \n",
    "    a, err = quad(gamma_real, 0, 1000) # type: ignore\n",
    "    b, err = quad(gamma_imag, 0, 1000) # type: ignore\n",
    "    i_fac = complex(a, b)\n",
    "\n",
    "    print(f\"My calculated factorial for i is {i_fac:.6}\")\n",
    "\n",
    "main()"
   ]
  }
 ],
 "metadata": {
  "kernelspec": {
   "display_name": "Python 3",
   "language": "python",
   "name": "python3"
  },
  "language_info": {
   "codemirror_mode": {
    "name": "ipython",
    "version": 3
   },
   "file_extension": ".py",
   "mimetype": "text/x-python",
   "name": "python",
   "nbconvert_exporter": "python",
   "pygments_lexer": "ipython3",
   "version": "3.9.6"
  },
  "orig_nbformat": 4
 },
 "nbformat": 4,
 "nbformat_minor": 2
}
