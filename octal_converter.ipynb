{
 "cells": [
  {
   "cell_type": "code",
   "execution_count": 9,
   "metadata": {},
   "outputs": [
    {
     "name": "stdout",
     "output_type": "stream",
     "text": [
      "Octal Number: 2323\n",
      "Decimal Number: 1235\n"
     ]
    }
   ],
   "source": [
    "\"\"\"octal_converter.ipynb\"\"\"\n",
    "# Cell 1\n",
    "# Adapted from chatGPT code\n",
    "\n",
    "# 2323 to base 10 -> 1235\n",
    "\n",
    "def octal_to_decimal (oct_num: int) -> int:\n",
    "    dec_num = 0\n",
    "    power = 0\n",
    "    \n",
    "    while oct_num != 0:\n",
    "        dec_num += (oct_num % 10) * (8 ** power)\n",
    "        power += 1\n",
    "        oct_num //= 10\n",
    "    return dec_num\n",
    "\n",
    "octal_num = 2323\n",
    "print (f\"Octal Number: {octal_num}\") \n",
    "decimal_num = octal_to_decimal(octal_num)\n",
    "print (f\"Decimal Number: {decimal_num}\") \n",
    "    "
   ]
  },
  {
   "cell_type": "code",
   "execution_count": 10,
   "metadata": {},
   "outputs": [
    {
     "name": "stdout",
     "output_type": "stream",
     "text": [
      "Decimal Number: 1235\n",
      "Octal Number: 2323\n"
     ]
    }
   ],
   "source": [
    "# Cell 2\n",
    "# Adapted from chatGPT code\n",
    "\n",
    "def decimal_to_octal(dec_num: int) -> int:\n",
    "    oct_num = 0\n",
    "    power = 0\n",
    "\n",
    "    while dec_num != 0:\n",
    "        oct_num += dec_num % 8 * (10 ** power)\n",
    "        power += 1\n",
    "        dec_num //= 8\n",
    "\n",
    "    return oct_num \n",
    "\n",
    "print (f\"Decimal Number: {decimal_num}\") \n",
    "octal_num = decimal_to_octal(decimal_num)\n",
    "print (f\"Octal Number: {octal_num}\") "
   ]
  },
  {
   "cell_type": "code",
   "execution_count": 11,
   "metadata": {},
   "outputs": [
    {
     "name": "stdout",
     "output_type": "stream",
     "text": [
      "Octal Number: 2323\n",
      "Decimal Number: 1235\n"
     ]
    }
   ],
   "source": [
    "# Cell 3 \n",
    "\n",
    "def octal_to_decimal_no_looping (oct_num: int) -> int:\n",
    "    # Built-in python typecast\n",
    "    return int(str(oct_num), base=8)\n",
    "\n",
    "octal_num = 2323\n",
    "print (f\"Octal Number: {octal_num}\") \n",
    "decimal_num: int = octal_to_decimal_no_looping(octal_num)\n",
    "print (f\"Decimal Number: {decimal_num}\") "
   ]
  },
  {
   "cell_type": "code",
   "execution_count": 12,
   "metadata": {},
   "outputs": [
    {
     "name": "stdout",
     "output_type": "stream",
     "text": [
      "Decimal Number: 1235\n",
      "Octal Number: 2323\n"
     ]
    }
   ],
   "source": [
    "# Cell 4 \n",
    "\n",
    "def decimal_to_octal_no_looping (dec_num: int) -> int: \n",
    "    # Built-in python oct function\n",
    "    return int(oct(dec_num)[2:])\n",
    "\n",
    "print (f\"Decimal Number: {decimal_num}\") \n",
    "octal_num: int = decimal_to_octal_no_looping(decimal_num)\n",
    "print (f\"Octal Number: {octal_num}\") "
   ]
  }
 ],
 "metadata": {
  "kernelspec": {
   "display_name": "Python 3",
   "language": "python",
   "name": "python3"
  },
  "language_info": {
   "codemirror_mode": {
    "name": "ipython",
    "version": 3
   },
   "file_extension": ".py",
   "mimetype": "text/x-python",
   "name": "python",
   "nbconvert_exporter": "python",
   "pygments_lexer": "ipython3",
   "version": "3.9.6"
  },
  "orig_nbformat": 4
 },
 "nbformat": 4,
 "nbformat_minor": 2
}
