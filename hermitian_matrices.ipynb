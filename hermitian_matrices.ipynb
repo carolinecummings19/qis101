{
 "cells": [
  {
   "cell_type": "code",
   "execution_count": 1,
   "id": "a114f0a9-a0bf-4004-ba16-c135403f320e",
   "metadata": {
    "tags": []
   },
   "outputs": [
    {
     "data": {
      "text/latex": [
       "Hermitian Matrix: $\\mathbf{A^\\dagger}=\\mathbf{A}$ where $\\mathbf{A^\\dagger}$ is the conjugate transpose of matrix $\\mathbf{A}$."
      ],
      "text/plain": [
       "<IPython.core.display.Latex object>"
      ]
     },
     "metadata": {},
     "output_type": "display_data"
    },
    {
     "data": {
      "text/latex": [
       "Proof that inverse of a Hermitian matrix is also Hermitian:"
      ],
      "text/plain": [
       "<IPython.core.display.Latex object>"
      ]
     },
     "metadata": {},
     "output_type": "display_data"
    },
    {
     "data": {
      "text/latex": [
       "If $\\mathbf{A^{-1} A}=\\mathbf{I}$ and we know the identity matrix is Hermitian, then \\\n",
       "              $\\mathbf{I}=\\mathbf{I^\\dagger}=\\mathbf{(A^{-1}A)^\\dagger} =\\mathbf{A^\\dagger(A^{-1})^\\dagger}=\\mathbf{A(A^{-1})^\\dagger}$"
      ],
      "text/plain": [
       "<IPython.core.display.Latex object>"
      ]
     },
     "metadata": {},
     "output_type": "display_data"
    },
    {
     "data": {
      "text/latex": [
       "For any invertible square matrix, if $\\mathbf{A^{-1} A}=\\mathbf{I}$ then $\\mathbf{A A^{-1}}=\\mathbf{I}$."
      ],
      "text/plain": [
       "<IPython.core.display.Latex object>"
      ]
     },
     "metadata": {},
     "output_type": "display_data"
    },
    {
     "data": {
      "text/latex": [
       "So, $\\mathbf{A(A^{-1})^\\dagger}=\\mathbf{A A^{-1}}$ and $\\mathbf{A^{-1}}=\\mathbf{(A^{-1})^\\dagger}$ meaning the inverse Hermitian is inverse as well."
      ],
      "text/plain": [
       "<IPython.core.display.Latex object>"
      ]
     },
     "metadata": {},
     "output_type": "display_data"
    },
    {
     "data": {
      "text/latex": [
       "Example using 3x3 Hermitian matrix of the form $\\begin{bmatrix} \\\n",
       "            r_1 & a - ib & c - id\\\\ \\\n",
       "            a + ib & r_2 & m - in\\\\ \\\n",
       "            c + id & m + in & r_3 \\\n",
       "        \\end{bmatrix}$ where r's are real numbers."
      ],
      "text/plain": [
       "<IPython.core.display.Latex object>"
      ]
     },
     "metadata": {},
     "output_type": "display_data"
    },
    {
     "data": {
      "text/latex": [
       "$\\displaystyle {A}=\\begin{bmatrix}0 &2-i &1-i\\\\2+i &1 &3-i\\\\1+i &3+i &2\\\\\\end{bmatrix}$"
      ],
      "text/plain": [
       "<IPython.core.display.Math object>"
      ]
     },
     "metadata": {},
     "output_type": "display_data"
    },
    {
     "data": {
      "text/latex": [
       "$\\displaystyle {A^{-1}}=\\begin{bmatrix}-1 &0 &0.5-0.5i\\\\0 &-0.25 &0.375-0.125i\\\\0.5 + 0.5i &0.375 + 0.125i &-0.625\\\\\\end{bmatrix}$"
      ],
      "text/plain": [
       "<IPython.core.display.Math object>"
      ]
     },
     "metadata": {},
     "output_type": "display_data"
    },
    {
     "data": {
      "text/latex": [
       "Clearly, the inverse of A is also in the same form of the general Hermitian matrix shown above. \\\n",
       "              Thus, $\\mathbf{A^{-1}}$ is also Hermitian."
      ],
      "text/plain": [
       "<IPython.core.display.Latex object>"
      ]
     },
     "metadata": {},
     "output_type": "display_data"
    }
   ],
   "source": [
    "\"\"\"hermitian_matrices.ipynb\"\"\"\n",
    "\n",
    "# Cell 1 - The inverse of a Hermitian matrix is also Hermitian\n",
    "\n",
    "from __future__ import annotations\n",
    "\n",
    "import typing\n",
    "\n",
    "import numpy as np\n",
    "from IPython.core.display import Math, Latex\n",
    "\n",
    "if typing.TYPE_CHECKING:\n",
    "    from numpy.typing import NDArray\n",
    "\n",
    "\n",
    "def display_array(\n",
    "    a: NDArray[np.complex_], places: int = 5, column: bool = False, prefix: str = \"\"\n",
    ") -> None:\n",
    "    def strip(val: float) -> str:\n",
    "        frmt: str = \":.\" + str(places) + \"f\"\n",
    "        d: str = str(\"{v\" + frmt + \"}\").format(v=val)\n",
    "        while d[-1] == \"0\":\n",
    "            d = d[:-1]\n",
    "        if d[-1] == \".\":\n",
    "            d = d[:-1]\n",
    "        if float(d) == 0:\n",
    "            d = \"0\"\n",
    "        return d\n",
    "\n",
    "    m: NDArray[np.complex_] = np.copy(a)\n",
    "    if len(m.shape) == 1:\n",
    "        m = m[np.newaxis, :]\n",
    "        if column:\n",
    "            m = m.T\n",
    "    prec: float = 1 / 10**places\n",
    "    s: str = r\"\\begin{bmatrix}\"\n",
    "    for row in range(m.shape[0]):\n",
    "        for col in range(m.shape[1]):\n",
    "            v: np.complex_ = m[row, col]\n",
    "            real_comp: float = float(np.real(v))\n",
    "            imag_comp: float = float(np.imag(v))\n",
    "            is_imag_neg: bool = imag_comp < 0\n",
    "            is_real_zero: bool = bool(np.isclose(real_comp, 0, atol=prec))\n",
    "            is_imag_zero: bool = bool(np.isclose(imag_comp, 0, atol=prec))\n",
    "            is_imag_one: bool = bool(np.isclose(abs(imag_comp), 1, atol=prec))\n",
    "            if is_real_zero:\n",
    "                if is_imag_zero:\n",
    "                    s += \"0\"\n",
    "            else:\n",
    "                s += strip(real_comp)\n",
    "            if not is_imag_zero:\n",
    "                if is_imag_one:\n",
    "                    if is_imag_neg:\n",
    "                        s += r\"-i\"\n",
    "                    else:\n",
    "                        if not is_real_zero:\n",
    "                            s += \"+\"\n",
    "                        s += r\"i\"\n",
    "                else:\n",
    "                    if not is_real_zero and not is_imag_neg:\n",
    "                        s += \" + \"\n",
    "                    s += strip(imag_comp) + \"i\"\n",
    "            if col < m.shape[1] - 1:\n",
    "                s += \" &\"\n",
    "        s += r\"\\\\\"\n",
    "    s += r\"\\end{bmatrix}\"\n",
    "    display(Math(prefix + s))\n",
    "\n",
    "\n",
    "# TODO: Add your code below this\n",
    "\n",
    "# Proof from Wikipedia on Hermitian Matrices\n",
    "display(Latex(r\"Hermitian Matrix: $\\mathbf{A^\\dagger}=\\mathbf{A}$ where $\\mathbf{A^\\dagger}$ is the conjugate transpose of matrix $\\mathbf{A}$.\"))\n",
    "display(Latex(r\"Proof that inverse of a Hermitian matrix is also Hermitian:\"))\n",
    "display(Latex(r\"If $\\mathbf{A^{-1} A}=\\mathbf{I}$ and we know the identity matrix is Hermitian, then \\\n",
    "              $\\mathbf{I}=\\mathbf{I^\\dagger}=\\mathbf{(A^{-1}A)^\\dagger} =\\mathbf{A^\\dagger(A^{-1})^\\dagger}=\\mathbf{A(A^{-1})^\\dagger}$\"))\n",
    "display(Latex(r\"For any invertible square matrix, if $\\mathbf{A^{-1} A}=\\mathbf{I}$ then $\\mathbf{A A^{-1}}=\\mathbf{I}$.\"))\n",
    "display(Latex(r\"So, $\\mathbf{A(A^{-1})^\\dagger}=\\mathbf{A A^{-1}}$ and $\\mathbf{A^{-1}}=\\mathbf{(A^{-1})^\\dagger}$ meaning the inverse Hermitian is inverse as well.\"))\n",
    "\n",
    "# Example using matrix \n",
    "display(Latex(r\"Example using 3x3 Hermitian matrix of the form $\\begin{bmatrix} \\\n",
    "            r_1 & a - ib & c - id\\\\ \\\n",
    "            a + ib & r_2 & m - in\\\\ \\\n",
    "            c + id & m + in & r_3 \\\n",
    "        \\end{bmatrix}$ where r's are real numbers.\"))\n",
    "\n",
    "h_matrix: NDArray[np.complex_] = np.array([[0, 2 - 1j, 1 - 1j], [2 + 1j, 1, 3 - 1j], [1 + 1j, 3 + 1j, 2]], dtype=np.complex_)\n",
    "display_array(h_matrix, prefix=r\"{A}=\")\n",
    "\n",
    "inv_matrix: NDArray[np.complex_] = np.linalg.inv(h_matrix)\n",
    "display_array(inv_matrix, prefix=r\"{A^{-1}}=\")\n",
    "\n",
    "display(Latex(r\"Clearly, the inverse of A is also in the same form of the general Hermitian matrix shown above. \\\n",
    "              Thus, $\\mathbf{A^{-1}}$ is also Hermitian.\"))\n"
   ]
  },
  {
   "cell_type": "code",
   "execution_count": 2,
   "id": "ccf20f1b-fb7f-4246-b58c-dd7a01965f03",
   "metadata": {
    "tags": []
   },
   "outputs": [
    {
     "data": {
      "text/latex": [
       "Example using 3x3 Hermitian matrix of the form $\\begin{bmatrix} \\\n",
       "            r_1 & a - ib & c - id\\\\ \\\n",
       "            a + ib & r_2 & m - in\\\\ \\\n",
       "            c + id & m + in & r_3 \\\n",
       "        \\end{bmatrix}$ where r's are real numbers."
      ],
      "text/plain": [
       "<IPython.core.display.Latex object>"
      ]
     },
     "metadata": {},
     "output_type": "display_data"
    },
    {
     "data": {
      "text/latex": [
       "$\\displaystyle {A}=\\begin{bmatrix}0 &2-i &1-i\\\\2+i &1 &3-i\\\\1+i &3+i &2\\\\\\end{bmatrix}$"
      ],
      "text/plain": [
       "<IPython.core.display.Math object>"
      ]
     },
     "metadata": {},
     "output_type": "display_data"
    },
    {
     "data": {
      "text/latex": [
       "$\\displaystyle {A^5}=\\begin{bmatrix}1067 &1518-759i &1259-1259i\\\\1518 + 759i &2576 &2652-884i\\\\1259 + 1259i &2652 + 884i &2960\\\\\\end{bmatrix}$"
      ],
      "text/plain": [
       "<IPython.core.display.Math object>"
      ]
     },
     "metadata": {},
     "output_type": "display_data"
    },
    {
     "data": {
      "text/latex": [
       "$\\mathbf{A^5}$ is also in the same form of the general Hermitian matrix shown above, thus, is also Hermitian."
      ],
      "text/plain": [
       "<IPython.core.display.Latex object>"
      ]
     },
     "metadata": {},
     "output_type": "display_data"
    }
   ],
   "source": [
    "# Cell 2 - A Hermitian matrix raised to an integer\n",
    "#          exponent yields another Hermitian matrix\n",
    "\n",
    "# TODO: Add your code below this\n",
    "\n",
    "# Example using matrix \n",
    "display(Latex(r\"Example using 3x3 Hermitian matrix of the form $\\begin{bmatrix} \\\n",
    "            r_1 & a - ib & c - id\\\\ \\\n",
    "            a + ib & r_2 & m - in\\\\ \\\n",
    "            c + id & m + in & r_3 \\\n",
    "        \\end{bmatrix}$ where r's are real numbers.\"))\n",
    "\n",
    "h_matrix: NDArray[np.complex_] = np.array([[0, 2 - 1j, 1 - 1j], [2 + 1j, 1, 3 - 1j], [1 + 1j, 3 + 1j, 2]], dtype=np.complex_)\n",
    "display_array(h_matrix, prefix=r\"{A}=\")\n",
    "\n",
    "# From D. Biersach \n",
    "t1: NDArray[np.complex_] = np.linalg.matrix_power(h_matrix, 5)\n",
    "pow_matrix: NDArray[np.complex_] = t1.conj().T\n",
    "display_array(pow_matrix, prefix=r\"{A^5}=\")\n",
    "\n",
    "display(Latex(r\"$\\mathbf{A^5}$ is also in the same form of the general Hermitian matrix shown above, thus, is also Hermitian.\"))"
   ]
  }
 ],
 "metadata": {
  "kernelspec": {
   "display_name": "Python 3 (ipykernel)",
   "language": "python",
   "name": "python3"
  },
  "language_info": {
   "codemirror_mode": {
    "name": "ipython",
    "version": 3
   },
   "file_extension": ".py",
   "mimetype": "text/x-python",
   "name": "python",
   "nbconvert_exporter": "python",
   "pygments_lexer": "ipython3",
   "version": "3.9.16"
  }
 },
 "nbformat": 4,
 "nbformat_minor": 5
}
